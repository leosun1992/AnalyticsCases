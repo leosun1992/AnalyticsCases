{
 "cells": [
  {
   "cell_type": "code",
   "execution_count": 1,
   "metadata": {},
   "outputs": [],
   "source": [
    "import pandas as pd"
   ]
  },
  {
   "cell_type": "code",
   "execution_count": 25,
   "metadata": {},
   "outputs": [],
   "source": [
    "df=pd.read_excel(\"steak-comments.xlsx\")"
   ]
  },
  {
   "cell_type": "code",
   "execution_count": 26,
   "metadata": {},
   "outputs": [
    {
     "data": {
      "text/html": [
       "<div>\n",
       "<style scoped>\n",
       "    .dataframe tbody tr th:only-of-type {\n",
       "        vertical-align: middle;\n",
       "    }\n",
       "\n",
       "    .dataframe tbody tr th {\n",
       "        vertical-align: top;\n",
       "    }\n",
       "\n",
       "    .dataframe thead th {\n",
       "        text-align: right;\n",
       "    }\n",
       "</style>\n",
       "<table border=\"1\" class=\"dataframe\">\n",
       "  <thead>\n",
       "    <tr style=\"text-align: right;\">\n",
       "      <th></th>\n",
       "      <th>comments</th>\n",
       "      <th>date</th>\n",
       "    </tr>\n",
       "  </thead>\n",
       "  <tbody>\n",
       "    <tr>\n",
       "      <td>0</td>\n",
       "      <td>买了好几天了，刚开始连续吃了好几次，一下子吃光了5块西冷牛排和1块眼肉的，觉得挺好的，今天又...</td>\n",
       "      <td>2019-12-10 17:29:00</td>\n",
       "    </tr>\n",
       "    <tr>\n",
       "      <td>1</td>\n",
       "      <td>疫情期间哪都去不了，只能待在家里想着法儿做各种美食。期间学会了凉皮、蛋糕、油泼辣子面等等各种...</td>\n",
       "      <td>2019-11-16 17:58:00</td>\n",
       "    </tr>\n",
       "    <tr>\n",
       "      <td>2</td>\n",
       "      <td>第一次买这个牛排，顺丰物流。已经吃的差不多了，个人感觉还不错，先好评～买了两种牛排，每个里面...</td>\n",
       "      <td>2019-10-09 19:41:00</td>\n",
       "    </tr>\n",
       "    <tr>\n",
       "      <td>3</td>\n",
       "      <td>千万不要在这家店卖，血泪教训，快递扔自提店不提示也没短信，催了三次还要自己联系，第二天从自提...</td>\n",
       "      <td>2019-09-15 10:03:00</td>\n",
       "    </tr>\n",
       "    <tr>\n",
       "      <td>4</td>\n",
       "      <td>非常失望，再盒马买过这个牌子还不行，网上入手5眼肉5西冷，先不说是不是原切。一家人烤了三块，...</td>\n",
       "      <td>2019-08-28 11:21:00</td>\n",
       "    </tr>\n",
       "  </tbody>\n",
       "</table>\n",
       "</div>"
      ],
      "text/plain": [
       "                                            comments                date\n",
       "0  买了好几天了，刚开始连续吃了好几次，一下子吃光了5块西冷牛排和1块眼肉的，觉得挺好的，今天又... 2019-12-10 17:29:00\n",
       "1  疫情期间哪都去不了，只能待在家里想着法儿做各种美食。期间学会了凉皮、蛋糕、油泼辣子面等等各种... 2019-11-16 17:58:00\n",
       "2  第一次买这个牛排，顺丰物流。已经吃的差不多了，个人感觉还不错，先好评～买了两种牛排，每个里面... 2019-10-09 19:41:00\n",
       "3  千万不要在这家店卖，血泪教训，快递扔自提店不提示也没短信，催了三次还要自己联系，第二天从自提... 2019-09-15 10:03:00\n",
       "4  非常失望，再盒马买过这个牌子还不行，网上入手5眼肉5西冷，先不说是不是原切。一家人烤了三块，... 2019-08-28 11:21:00"
      ]
     },
     "execution_count": 26,
     "metadata": {},
     "output_type": "execute_result"
    }
   ],
   "source": [
    "df.head()"
   ]
  },
  {
   "cell_type": "code",
   "execution_count": 27,
   "metadata": {},
   "outputs": [],
   "source": [
    "text = df.comments.iloc[0]"
   ]
  },
  {
   "cell_type": "code",
   "execution_count": 28,
   "metadata": {},
   "outputs": [],
   "source": [
    "from snownlp import SnowNLP\n",
    "s = SnowNLP(text)"
   ]
  },
  {
   "cell_type": "code",
   "execution_count": 29,
   "metadata": {},
   "outputs": [
    {
     "data": {
      "text/plain": [
       "0.03222216989778204"
      ]
     },
     "execution_count": 29,
     "metadata": {},
     "output_type": "execute_result"
    }
   ],
   "source": [
    "s.sentiments"
   ]
  },
  {
   "cell_type": "code",
   "execution_count": 30,
   "metadata": {},
   "outputs": [],
   "source": [
    "def get_sentiment_cn(text):\n",
    "    s = SnowNLP(text)\n",
    "    return s.sentiments"
   ]
  },
  {
   "cell_type": "code",
   "execution_count": 31,
   "metadata": {},
   "outputs": [],
   "source": [
    "df[\"sentiment\"] = df.comments.apply(get_sentiment_cn)"
   ]
  },
  {
   "cell_type": "code",
   "execution_count": 32,
   "metadata": {},
   "outputs": [
    {
     "data": {
      "text/html": [
       "<div>\n",
       "<style scoped>\n",
       "    .dataframe tbody tr th:only-of-type {\n",
       "        vertical-align: middle;\n",
       "    }\n",
       "\n",
       "    .dataframe tbody tr th {\n",
       "        vertical-align: top;\n",
       "    }\n",
       "\n",
       "    .dataframe thead th {\n",
       "        text-align: right;\n",
       "    }\n",
       "</style>\n",
       "<table border=\"1\" class=\"dataframe\">\n",
       "  <thead>\n",
       "    <tr style=\"text-align: right;\">\n",
       "      <th></th>\n",
       "      <th>comments</th>\n",
       "      <th>date</th>\n",
       "      <th>sentiment</th>\n",
       "    </tr>\n",
       "  </thead>\n",
       "  <tbody>\n",
       "    <tr>\n",
       "      <td>0</td>\n",
       "      <td>买了好几天了，刚开始连续吃了好几次，一下子吃光了5块西冷牛排和1块眼肉的，觉得挺好的，今天又...</td>\n",
       "      <td>2019-12-10 17:29:00</td>\n",
       "      <td>3.222217e-02</td>\n",
       "    </tr>\n",
       "    <tr>\n",
       "      <td>1</td>\n",
       "      <td>疫情期间哪都去不了，只能待在家里想着法儿做各种美食。期间学会了凉皮、蛋糕、油泼辣子面等等各种...</td>\n",
       "      <td>2019-11-16 17:58:00</td>\n",
       "      <td>9.999025e-01</td>\n",
       "    </tr>\n",
       "    <tr>\n",
       "      <td>2</td>\n",
       "      <td>第一次买这个牛排，顺丰物流。已经吃的差不多了，个人感觉还不错，先好评～买了两种牛排，每个里面...</td>\n",
       "      <td>2019-10-09 19:41:00</td>\n",
       "      <td>9.999971e-01</td>\n",
       "    </tr>\n",
       "    <tr>\n",
       "      <td>3</td>\n",
       "      <td>千万不要在这家店卖，血泪教训，快递扔自提店不提示也没短信，催了三次还要自己联系，第二天从自提...</td>\n",
       "      <td>2019-09-15 10:03:00</td>\n",
       "      <td>3.184519e-11</td>\n",
       "    </tr>\n",
       "    <tr>\n",
       "      <td>4</td>\n",
       "      <td>非常失望，再盒马买过这个牌子还不行，网上入手5眼肉5西冷，先不说是不是原切。一家人烤了三块，...</td>\n",
       "      <td>2019-08-28 11:21:00</td>\n",
       "      <td>1.679860e-09</td>\n",
       "    </tr>\n",
       "  </tbody>\n",
       "</table>\n",
       "</div>"
      ],
      "text/plain": [
       "                                            comments                date  \\\n",
       "0  买了好几天了，刚开始连续吃了好几次，一下子吃光了5块西冷牛排和1块眼肉的，觉得挺好的，今天又... 2019-12-10 17:29:00   \n",
       "1  疫情期间哪都去不了，只能待在家里想着法儿做各种美食。期间学会了凉皮、蛋糕、油泼辣子面等等各种... 2019-11-16 17:58:00   \n",
       "2  第一次买这个牛排，顺丰物流。已经吃的差不多了，个人感觉还不错，先好评～买了两种牛排，每个里面... 2019-10-09 19:41:00   \n",
       "3  千万不要在这家店卖，血泪教训，快递扔自提店不提示也没短信，催了三次还要自己联系，第二天从自提... 2019-09-15 10:03:00   \n",
       "4  非常失望，再盒马买过这个牌子还不行，网上入手5眼肉5西冷，先不说是不是原切。一家人烤了三块，... 2019-08-28 11:21:00   \n",
       "\n",
       "      sentiment  \n",
       "0  3.222217e-02  \n",
       "1  9.999025e-01  \n",
       "2  9.999971e-01  \n",
       "3  3.184519e-11  \n",
       "4  1.679860e-09  "
      ]
     },
     "execution_count": 32,
     "metadata": {},
     "output_type": "execute_result"
    }
   ],
   "source": [
    "df.head()"
   ]
  },
  {
   "cell_type": "code",
   "execution_count": 33,
   "metadata": {},
   "outputs": [
    {
     "data": {
      "text/plain": [
       "0.4685911828498071"
      ]
     },
     "execution_count": 33,
     "metadata": {},
     "output_type": "execute_result"
    }
   ],
   "source": [
    "df.sentiment.mean()"
   ]
  },
  {
   "cell_type": "code",
   "execution_count": 34,
   "metadata": {},
   "outputs": [
    {
     "data": {
      "text/plain": [
       "0.2792188443798662"
      ]
     },
     "execution_count": 34,
     "metadata": {},
     "output_type": "execute_result"
    }
   ],
   "source": [
    "df.sentiment.median()"
   ]
  },
  {
   "cell_type": "code",
   "execution_count": 37,
   "metadata": {},
   "outputs": [
    {
     "name": "stdout",
     "output_type": "stream",
     "text": [
      "Populating the interactive namespace from numpy and matplotlib\n"
     ]
    },
    {
     "name": "stderr",
     "output_type": "stream",
     "text": [
      "/Users/mac/opt/anaconda3/lib/python3.7/site-packages/IPython/core/magics/pylab.py:160: UserWarning: pylab import has clobbered these variables: ['xlim', 'legend', 'ylim']\n",
      "`%matplotlib` prevents importing * from pylab and numpy\n",
      "  \"\\n`%matplotlib` prevents importing * from pylab and numpy\"\n"
     ]
    }
   ],
   "source": [
    "%pylab inline\n",
    "from ggplot import *"
   ]
  },
  {
   "cell_type": "code",
   "execution_count": 38,
   "metadata": {},
   "outputs": [
    {
     "name": "stderr",
     "output_type": "stream",
     "text": [
      "/Users/mac/opt/anaconda3/lib/python3.7/site-packages/pandas/plotting/_matplotlib/converter.py:103: FutureWarning: Using an implicitly registered datetime converter for a matplotlib plotting method. The converter was registered by pandas on import. Future versions of pandas will require you to explicitly register matplotlib converters.\n",
      "\n",
      "To register the converters:\n",
      "\t>>> from pandas.plotting import register_matplotlib_converters\n",
      "\t>>> register_matplotlib_converters()\n",
      "  warnings.warn(msg, FutureWarning)\n"
     ]
    },
    {
     "data": {
      "image/png": "[encoded data removed]",
      "text/plain": [
       "<Figure size 792x576 with 1 Axes>"
      ]
     },
     "metadata": {},
     "output_type": "display_data"
    },
    {
     "data": {
      "text/plain": [
       "<ggplot: (304890317)>"
      ]
     },
     "execution_count": 38,
     "metadata": {},
     "output_type": "execute_result"
    }
   ],
   "source": [
    "ggplot(aes(x=\"date\", y=\"sentiment\"), data=df) + geom_point() + geom_line(color = 'blue') + scale_x_date(labels = date_format(\"%Y-%m-%d\"))"
   ]
  },
  {
   "cell_type": "code",
   "execution_count": 22,
   "metadata": {},
   "outputs": [
    {
     "data": {
      "text/html": [
       "<div>\n",
       "<style scoped>\n",
       "    .dataframe tbody tr th:only-of-type {\n",
       "        vertical-align: middle;\n",
       "    }\n",
       "\n",
       "    .dataframe tbody tr th {\n",
       "        vertical-align: top;\n",
       "    }\n",
       "\n",
       "    .dataframe thead th {\n",
       "        text-align: right;\n",
       "    }\n",
       "</style>\n",
       "<table border=\"1\" class=\"dataframe\">\n",
       "  <thead>\n",
       "    <tr style=\"text-align: right;\">\n",
       "      <th></th>\n",
       "      <th>comments</th>\n",
       "      <th>date</th>\n",
       "      <th>sentiment</th>\n",
       "    </tr>\n",
       "  </thead>\n",
       "  <tbody>\n",
       "    <tr>\n",
       "      <td>3</td>\n",
       "      <td>千万不要在这家店卖，血泪教训，快递扔自提店不提示也没短信，催了三次还要自己联系，第二天从自提...</td>\n",
       "      <td>2019-09-15 10:03:00</td>\n",
       "      <td>3.184519e-11</td>\n",
       "    </tr>\n",
       "  </tbody>\n",
       "</table>\n",
       "</div>"
      ],
      "text/plain": [
       "                                            comments                date  \\\n",
       "3  千万不要在这家店卖，血泪教训，快递扔自提店不提示也没短信，催了三次还要自己联系，第二天从自提... 2019-09-15 10:03:00   \n",
       "\n",
       "      sentiment  \n",
       "3  3.184519e-11  "
      ]
     },
     "execution_count": 22,
     "metadata": {},
     "output_type": "execute_result"
    }
   ],
   "source": [
    "df.sort_values(['sentiment'])[:1]"
   ]
  },
  {
   "cell_type": "code",
   "execution_count": 23,
   "metadata": {},
   "outputs": [
    {
     "name": "stdout",
     "output_type": "stream",
     "text": [
      "千万不要在这家店卖，血泪教训，快递扔自提店不提示也没短信，催了三次还要自己联系，第二天从自提店拿来已经都化了！关键关键，可悲的是，大希地的客服说没问题的，没有味道就没事，让我们放心吃，气的我使劲喷，连续几天联系客服不理要么客服不在我们会核实，每天搪塞你。这种商店迟早完蛋。看着吧，这评论大希地肯定会回复抱歉呀不好意思呀我们会下次会努力的\n"
     ]
    }
   ],
   "source": [
    "print(df.sort_values(['sentiment']).iloc[0].comments)"
   ]
  },
  {
   "cell_type": "code",
   "execution_count": null,
   "metadata": {},
   "outputs": [],
   "source": []
  }
 ],
 "metadata": {
  "kernelspec": {
   "display_name": "python2",
   "language": "python",
   "name": "python2"
  },
  "language_info": {
   "codemirror_mode": {
    "name": "ipython",
    "version": 3
   },
   "file_extension": ".py",
   "mimetype": "text/x-python",
   "name": "python",
   "nbconvert_exporter": "python",
   "pygments_lexer": "ipython3",
   "version": "3.7.4"
  }
 },
 "nbformat": 4,
 "nbformat_minor": 2
}
